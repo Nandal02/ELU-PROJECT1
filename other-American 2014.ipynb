{
 "cells": [
  {
   "cell_type": "code",
   "execution_count": 19,
   "metadata": {},
   "outputs": [],
   "source": [
    "import pandas as pd\n",
    "import seaborn as sns\n",
    "import matplotlib.pyplot as plt\n",
    "from mpl_toolkits.basemap import Basemap\n",
    "from matplotlib import cm\n",
    "\n",
    "\n",
    "%matplotlib inline\n",
    "\n",
    "import warnings\n",
    "warnings.filterwarnings('ignore')"
   ]
  },
  {
   "cell_type": "code",
   "execution_count": 20,
   "metadata": {},
   "outputs": [
    {
     "data": {
      "text/html": [
       "<div>\n",
       "<style scoped>\n",
       "    .dataframe tbody tr th:only-of-type {\n",
       "        vertical-align: middle;\n",
       "    }\n",
       "\n",
       "    .dataframe tbody tr th {\n",
       "        vertical-align: top;\n",
       "    }\n",
       "\n",
       "    .dataframe thead th {\n",
       "        text-align: right;\n",
       "    }\n",
       "</style>\n",
       "<table border=\"1\" class=\"dataframe\">\n",
       "  <thead>\n",
       "    <tr style=\"text-align: right;\">\n",
       "      <th></th>\n",
       "      <th>DATE</th>\n",
       "      <th>TIME</th>\n",
       "      <th>PICK UP ADDRESS</th>\n",
       "    </tr>\n",
       "  </thead>\n",
       "  <tbody>\n",
       "    <tr>\n",
       "      <th>0</th>\n",
       "      <td>7/1/2014</td>\n",
       "      <td>12:00:00 AM</td>\n",
       "      <td>874 E 139th St Mott Haven, BX</td>\n",
       "    </tr>\n",
       "    <tr>\n",
       "      <th>1</th>\n",
       "      <td>7/1/2014</td>\n",
       "      <td>12:01:00 AM</td>\n",
       "      <td>628 E 141st St Mott Haven, BX</td>\n",
       "    </tr>\n",
       "    <tr>\n",
       "      <th>2</th>\n",
       "      <td>7/1/2014</td>\n",
       "      <td>12:01:00 AM</td>\n",
       "      <td>601 E 156th St South Bronx, BX</td>\n",
       "    </tr>\n",
       "    <tr>\n",
       "      <th>3</th>\n",
       "      <td>7/1/2014</td>\n",
       "      <td>12:01:00 AM</td>\n",
       "      <td>708 E 138th St Mott Haven, BX</td>\n",
       "    </tr>\n",
       "    <tr>\n",
       "      <th>4</th>\n",
       "      <td>7/1/2014</td>\n",
       "      <td>12:02:00 AM</td>\n",
       "      <td>700 E 140th St Mott Haven, BX</td>\n",
       "    </tr>\n",
       "  </tbody>\n",
       "</table>\n",
       "</div>"
      ],
      "text/plain": [
       "       DATE         TIME                  PICK UP ADDRESS\n",
       "0  7/1/2014  12:00:00 AM    874 E 139th St Mott Haven, BX\n",
       "1  7/1/2014  12:01:00 AM    628 E 141st St Mott Haven, BX\n",
       "2  7/1/2014  12:01:00 AM   601 E 156th St South Bronx, BX\n",
       "3  7/1/2014  12:01:00 AM    708 E 138th St Mott Haven, BX\n",
       "4  7/1/2014  12:02:00 AM    700 E 140th St Mott Haven, BX"
      ]
     },
     "execution_count": 20,
     "metadata": {},
     "output_type": "execute_result"
    }
   ],
   "source": [
    "DATA_FILE = 'other-American_B01362.csv'\n",
    "Ame_data= pd.read_csv(DATA_FILE)\n",
    "Ame_data.head()"
   ]
  },
  {
   "cell_type": "code",
   "execution_count": 21,
   "metadata": {},
   "outputs": [
    {
     "name": "stdout",
     "output_type": "stream",
     "text": [
      "<class 'pandas.core.frame.DataFrame'>\n",
      "RangeIndex: 91712 entries, 0 to 91711\n",
      "Data columns (total 3 columns):\n",
      "DATE               91712 non-null object\n",
      "TIME               91712 non-null object\n",
      "PICK UP ADDRESS    91712 non-null object\n",
      "dtypes: object(3)\n",
      "memory usage: 2.1+ MB\n"
     ]
    }
   ],
   "source": [
    "Ame_data.info()"
   ]
  },
  {
   "cell_type": "code",
   "execution_count": 22,
   "metadata": {},
   "outputs": [
    {
     "name": "stdout",
     "output_type": "stream",
     "text": [
      "<class 'pandas.core.frame.DataFrame'>\n",
      "RangeIndex: 91712 entries, 0 to 91711\n",
      "Data columns (total 3 columns):\n",
      "DATE               91712 non-null object\n",
      "TIME               91712 non-null object\n",
      "PICK UP ADDRESS    91712 non-null object\n",
      "dtypes: object(3)\n",
      "memory usage: 2.1+ MB\n"
     ]
    }
   ],
   "source": [
    "Ame_data.info()"
   ]
  },
  {
   "cell_type": "code",
   "execution_count": 24,
   "metadata": {},
   "outputs": [],
   "source": [
    "Ame_data['DATE'] = pd.to_datetime(Ame_data['DATE'], format=\"%m/%d/%Y\")\n",
    "Ame_data['TIME'] = pd.to_datetime(Ame_data['TIME'], format=\"%I:%M:%S  %p\")\n",
    "#Ame_data['TIME'] = pd.to_dataetime(Ame_data['TIME'],format='%h:%m:%s')\n",
    "Ame_data['DayOfWeekNum'] = Ame_data['DATE'].dt.dayofweek\n",
    "Ame_data['DayOfWeek'] = Ame_data['DATE'].dt.weekday_name\n",
    "Ame_data['MonthDayNum'] = Ame_data['DATE'].dt.day\n",
    "Ame_data['HourOfDay'] = Ame_data['TIME'].dt.hour"
   ]
  },
  {
   "cell_type": "code",
   "execution_count": 25,
   "metadata": {},
   "outputs": [
    {
     "data": {
      "text/plain": [
       "Text(0.5, 1.0, 'Journeys by Week Day')"
      ]
     },
     "execution_count": 25,
     "metadata": {},
     "output_type": "execute_result"
    },
    {
     "data": {
      "image/png": "[encoded data removed]",
      "text/plain": [
       "<Figure size 576x432 with 1 Axes>"
      ]
     },
     "metadata": {
      "needs_background": "light"
     },
     "output_type": "display_data"
    }
   ],
   "source": [
    "Ame_weekdays = Ame_data.pivot_table(index=['DayOfWeekNum','DayOfWeek'],values='PICK UP ADDRESS',aggfunc='count')\n",
    "\n",
    "Ame_weekdays.plot(kind='bar', figsize=(8,6))\n",
    "plt.ylabel('Total Journeys')\n",
    "plt.title('Journeys by Week Day')\n"
   ]
  },
  {
   "cell_type": "code",
   "execution_count": 27,
   "metadata": {},
   "outputs": [
    {
     "data": {
      "text/plain": [
       "Text(0.5, 1.0, 'Journeys by Hour')"
      ]
     },
     "execution_count": 27,
     "metadata": {},
     "output_type": "execute_result"
    },
    {
     "data": {
      "image/png": "[encoded data removed]",
      "text/plain": [
       "<Figure size 576x432 with 1 Axes>"
      ]
     },
     "metadata": {
      "needs_background": "light"
     },
     "output_type": "display_data"
    }
   ],
   "source": [
    "Ame_hour = Ame_data.pivot_table(index=['HourOfDay'],\n",
    "                                  values='PICK UP ADDRESS',\n",
    "                                  aggfunc='count')\n",
    "Ame_hour.plot(kind='bar', figsize=(8,6))\n",
    "plt.ylabel('Total Journeys')\n",
    "plt.title('Journeys by Hour')"
   ]
  },
  {
   "cell_type": "code",
   "execution_count": null,
   "metadata": {},
   "outputs": [],
   "source": []
  }
 ],
 "metadata": {
  "kernelspec": {
   "display_name": "Python 3",
   "language": "python",
   "name": "python3"
  },
  "language_info": {
   "codemirror_mode": {
    "name": "ipython",
    "version": 3
   },
   "file_extension": ".py",
   "mimetype": "text/x-python",
   "name": "python",
   "nbconvert_exporter": "python",
   "pygments_lexer": "ipython3",
   "version": "3.7.3"
  }
 },
 "nbformat": 4,
 "nbformat_minor": 2
}
